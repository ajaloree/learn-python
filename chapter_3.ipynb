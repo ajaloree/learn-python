{
  "nbformat": 4,
  "nbformat_minor": 0,
  "metadata": {
    "colab": {
      "provenance": [],
      "authorship_tag": "ABX9TyMdwNvDCyXe3+58NqP7atHN",
      "include_colab_link": true
    },
    "kernelspec": {
      "name": "python3",
      "display_name": "Python 3"
    },
    "language_info": {
      "name": "python"
    }
  },
  "cells": [
    {
      "cell_type": "markdown",
      "metadata": {
        "id": "view-in-github",
        "colab_type": "text"
      },
      "source": [
        "<a href=\"https://colab.research.google.com/github/ajaloree/learn-python/blob/main/chapter_3.ipynb\" target=\"_parent\"><img src=\"https://colab.research.google.com/assets/colab-badge.svg\" alt=\"Open In Colab\"/></a>"
      ]
    },
    {
      "cell_type": "code",
      "execution_count": 8,
      "metadata": {
        "colab": {
          "base_uri": "https://localhost:8080/"
        },
        "id": "3z5tGIXtnRIg",
        "outputId": "5f49831f-3d73-4a69-9c8e-247c103774e9"
      },
      "outputs": [
        {
          "output_type": "stream",
          "name": "stdout",
          "text": [
            "Hello World!\n"
          ]
        }
      ],
      "source": [
        "print(\"Hello World!\")"
      ]
    },
    {
      "cell_type": "code",
      "source": [
        "help()"
      ],
      "metadata": {
        "colab": {
          "base_uri": "https://localhost:8080/"
        },
        "id": "PqCRzfEXnxie",
        "outputId": "1ef8d032-646d-4cce-8f1a-74d4f29143b5"
      },
      "execution_count": null,
      "outputs": [
        {
          "output_type": "stream",
          "name": "stdout",
          "text": [
            "Welcome to Python 3.11's help utility! If this is your first time using\n",
            "Python, you should definitely check out the tutorial at\n",
            "https://docs.python.org/3.11/tutorial/.\n",
            "\n",
            "Enter the name of any module, keyword, or topic to get help on writing\n",
            "Python programs and using Python modules.  To get a list of available\n",
            "modules, keywords, symbols, or topics, enter \"modules\", \"keywords\",\n",
            "\"symbols\", or \"topics\".\n",
            "\n",
            "Each module also comes with a one-line summary of what it does; to list\n",
            "the modules whose name or summary contain a given string such as \"spam\",\n",
            "enter \"modules spam\".\n",
            "\n",
            "To quit this help utility and return to the interpreter,\n",
            "enter \"q\" or \"quit\".\n",
            "\n",
            "help> __init__\n",
            "Help on module __init__:\n",
            "\n",
            "NAME\n",
            "    __init__ - This directory is meant for IPython extensions.\n",
            "\n",
            "FILE\n",
            "    /usr/local/lib/python3.11/dist-packages/IPython/extensions/__init__.py\n",
            "\n",
            "\n"
          ]
        }
      ]
    },
    {
      "cell_type": "markdown",
      "source": [
        "Complex Number Data Type in Python"
      ],
      "metadata": {
        "id": "XWjgO2KroBYF"
      }
    },
    {
      "cell_type": "code",
      "source": [
        "x = -1 - 5j\n",
        "y = 5 + 4j\n",
        "print(x+y)\n",
        "print(x-y)\n",
        "print(x/y)\n",
        "print(x*y)"
      ],
      "metadata": {
        "id": "L_NovtEA1BTp"
      },
      "execution_count": null,
      "outputs": []
    },
    {
      "cell_type": "markdown",
      "source": [
        "Lists"
      ],
      "metadata": {
        "id": "RzQA6f-y1vvm"
      }
    },
    {
      "cell_type": "code",
      "source": [
        "x = list(range(1,10))\n",
        "x = list(range(1,10))\n",
        "x\n",
        "print(x[8:9])\n",
        "print(x[-2:]) # print last two elements"
      ],
      "metadata": {
        "id": "Na1vD57A-KqP"
      },
      "execution_count": null,
      "outputs": []
    },
    {
      "cell_type": "markdown",
      "source": [
        "Tuples"
      ],
      "metadata": {
        "id": "l5Emyvcc_jJE"
      }
    },
    {
      "cell_type": "code",
      "source": [
        "x = (1,2,3)\n",
        "a,b,c = x   # destructuring tuples into separate variables\n",
        "print(a)\n",
        "print(b)\n",
        "print(c)\n",
        "y = tuple(list(range(1,5))) # create tuple from a list\n",
        "print(y)\n",
        "print(1 in y) # membership test using 'in' operator"
      ],
      "metadata": {
        "id": "ywqU1F-Z_llE"
      },
      "execution_count": null,
      "outputs": []
    },
    {
      "cell_type": "markdown",
      "source": [
        "Maps"
      ],
      "metadata": {
        "id": "Vu1-U4OPoEdn"
      }
    },
    {
      "cell_type": "code",
      "source": [
        "map = {1: \"one\", 2: \"two\"}\n",
        "print(map)\n",
        "print(map[1])\n",
        "try:\n",
        "  print(map[3])\n",
        "except KeyError as e:\n",
        "  print(\"Key not present\")\n",
        "print(map.get(3,\"not_present\"))"
      ],
      "metadata": {
        "id": "oP2WX8rFk_dw"
      },
      "execution_count": null,
      "outputs": []
    },
    {
      "cell_type": "markdown",
      "source": [
        "Pattern Match"
      ],
      "metadata": {
        "id": "6H4JxkkjoGik"
      }
    },
    {
      "cell_type": "code",
      "source": [
        "point = (int(input(\"enter x\")),int(input(\"enter y\")))\n",
        "print(point)\n",
        "match point:\n",
        "  case (0,0):\n",
        "    print(\"Origin\")\n",
        "  case (0,y):\n",
        "    print(f\"On Y-axis Y={y}\")\n",
        "  case (x,0):\n",
        "    print(f\"On X-axis X={x}\")\n",
        "  case (x,y):\n",
        "    print(f\"X={x} Y={y}\")\n"
      ],
      "metadata": {
        "id": "mlGf10RqoHwj"
      },
      "execution_count": null,
      "outputs": []
    },
    {
      "cell_type": "markdown",
      "source": [
        "while loop"
      ],
      "metadata": {
        "id": "8EgkLYzfpfB2"
      }
    },
    {
      "cell_type": "code",
      "source": [
        "num = int(input(\"enter a number\"))\n",
        "while num > 0:\n",
        "  print(f\"Hello-{num}\")\n",
        "  num -= 1"
      ],
      "metadata": {
        "id": "f5_6Jp9aphlu"
      },
      "execution_count": null,
      "outputs": []
    },
    {
      "cell_type": "markdown",
      "source": [
        "for loop"
      ],
      "metadata": {
        "id": "bFOGkXvKqkfk"
      }
    },
    {
      "cell_type": "code",
      "source": [
        "items = [3, \"anoop\", (1,2), 2.5]\n",
        "for item in items:\n",
        "  match item:\n",
        "    case int():\n",
        "      print(f\"{item} is an integer\")\n",
        "    case str():\n",
        "      print(f\"{item} is a string\")\n",
        "    case tuple():\n",
        "      print(f\"{item} is a tuple\")"
      ],
      "metadata": {
        "id": "Fu-ORkBLqmRK"
      },
      "execution_count": null,
      "outputs": []
    },
    {
      "cell_type": "markdown",
      "source": [
        "Functions"
      ],
      "metadata": {
        "id": "wN1PMY-KsWxR"
      }
    },
    {
      "cell_type": "code",
      "source": [
        "def mathFunc(n,a,b,c):\n",
        "  return pow(((a*n)/b),c)\n",
        "print(mathFunc(2,3,4,5))\n",
        "print(mathFunc(n=2,a=3,b=4,c=5))\n",
        "print(mathFunc(2,b=4,c=5,a=3))\n",
        "\n",
        "def tupleCreator(a,b,c,*tup):\n",
        "  return (a,b,c)+tup        # Adding two tuples creates a new tuple\n",
        "\n",
        "print(tupleCreator(1,2,3,4,5,6,7,8))"
      ],
      "metadata": {
        "id": "fr7W5ynZso_8"
      },
      "execution_count": null,
      "outputs": []
    },
    {
      "cell_type": "markdown",
      "source": [
        "File I/O"
      ],
      "metadata": {
        "id": "wIHKXGI3GhSH"
      }
    },
    {
      "cell_type": "code",
      "source": [
        "file_path = '/content/sample_data/README.md'\n",
        "with open(file_path, 'r') as f:\n",
        "  content = f.read()\n",
        "  print(content)"
      ],
      "metadata": {
        "id": "1C5gukSBHpbq"
      },
      "execution_count": null,
      "outputs": []
    },
    {
      "cell_type": "code",
      "source": [
        "class EmptyFileError(Exception):\n",
        "  pass\n",
        "file_names = [\"README.md\", \"non_existent\", \"empty.dat\"]\n",
        "for file_name in file_names:\n",
        "  try:\n",
        "    with open(f\"/content/sample_data/{file_name}\", 'r') as f:\n",
        "      line = f.readline()\n",
        "      if line == \"\":\n",
        "        f.close()\n",
        "        raise EmptyFileError\n",
        "  except IOError as error:\n",
        "    print(f\"Filename {file_name} could not be opened\")\n",
        "  except EmptyFileError as error:\n",
        "    print(f\"Filename {file_name} is empty\")\n",
        "  else:\n",
        "    print(f\"Filename: {file_name} Content: ${line}\")\n",
        "  finally:\n",
        "    print(\"Done\")\n",
        "\n"
      ],
      "metadata": {
        "id": "dDF-MWUkIe-t"
      },
      "execution_count": null,
      "outputs": []
    },
    {
      "cell_type": "markdown",
      "source": [
        "Reading a file using context manager"
      ],
      "metadata": {
        "id": "tchu62FNLiv8"
      }
    },
    {
      "cell_type": "code",
      "source": [
        "file = \"/content/sample_data/README.md\"\n",
        "with open(file,\"r\") as file:\n",
        "  for line in file:\n",
        "    print(line)"
      ],
      "metadata": {
        "id": "F3CleZKTHueu"
      },
      "execution_count": null,
      "outputs": []
    },
    {
      "cell_type": "markdown",
      "source": [
        "Object Oriented Programming"
      ],
      "metadata": {
        "id": "sfNZfYt2TISX"
      }
    },
    {
      "cell_type": "code",
      "source": [
        "class Shape:\n",
        "  def __init__(self, x, y):\n",
        "    self.x = x\n",
        "    self.y = y\n",
        "  def move(self, deltaX, deltaY):\n",
        "    self.x = self.x + deltaX\n",
        "    self.y = self.y + deltaY"
      ],
      "metadata": {
        "id": "a5kS-wvziNm1"
      },
      "execution_count": null,
      "outputs": []
    },
    {
      "cell_type": "code",
      "source": [
        "class Square(Shape):\n",
        "  def __init__(self, side, x=0, y=0):\n",
        "    super().__init__(x, y)\n",
        "    self.side = side\n",
        "  def area(self):\n",
        "    return self.side * self.side\n",
        "  def __str__(self):\n",
        "    return f\"Square(side={self.side}, x={self.x}, y={self.y})\""
      ],
      "metadata": {
        "id": "2iQN8YTNiqVu"
      },
      "execution_count": null,
      "outputs": []
    },
    {
      "cell_type": "code",
      "source": [
        "class Circle(Shape):\n",
        "  def __init__(self, radius, x=0, y=0):\n",
        "    super().__init__(x, y)\n",
        "    self.radius = radius\n",
        "  def area(self):\n",
        "    return 3.14 * self.radius * self.radius\n",
        "  def __str__(self):\n",
        "    return f\"Circle(radius={self.radius}, x={self.x}, y={self.y})\""
      ],
      "metadata": {
        "id": "pB9y1uIPjPJX"
      },
      "execution_count": null,
      "outputs": []
    },
    {
      "cell_type": "code",
      "source": [
        "s1 = Square(5)\n",
        "print(s1)\n",
        "s2 = Square(7,10,10)\n",
        "print(s2)\n",
        "s1.move(16,16)\n",
        "print(s1)\n",
        "c1 = Circle(5)\n",
        "print(c1)\n",
        "c2 = Circle(7,10,10)\n",
        "print(c2)\n",
        "c1.move(16,16)\n",
        "print(c1)\n"
      ],
      "metadata": {
        "id": "RpG8UBnSkTED"
      },
      "execution_count": null,
      "outputs": []
    }
  ]
}