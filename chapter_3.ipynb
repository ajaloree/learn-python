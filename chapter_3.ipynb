{
  "nbformat": 4,
  "nbformat_minor": 0,
  "metadata": {
    "colab": {
      "provenance": [],
      "authorship_tag": "ABX9TyP9j5EV3ziVO7spPyxRiQZa",
      "include_colab_link": true
    },
    "kernelspec": {
      "name": "python3",
      "display_name": "Python 3"
    },
    "language_info": {
      "name": "python"
    }
  },
  "cells": [
    {
      "cell_type": "markdown",
      "metadata": {
        "id": "view-in-github",
        "colab_type": "text"
      },
      "source": [
        "<a href=\"https://colab.research.google.com/github/ajaloree/learn-python/blob/main/chapter_3.ipynb\" target=\"_parent\"><img src=\"https://colab.research.google.com/assets/colab-badge.svg\" alt=\"Open In Colab\"/></a>"
      ]
    },
    {
      "cell_type": "code",
      "execution_count": null,
      "metadata": {
        "colab": {
          "base_uri": "https://localhost:8080/"
        },
        "id": "3z5tGIXtnRIg",
        "outputId": "27a57e50-5c8c-4830-e326-47b800e5a6ef"
      },
      "outputs": [
        {
          "output_type": "stream",
          "name": "stdout",
          "text": [
            "Hello World!\n"
          ]
        }
      ],
      "source": [
        "print(\"Hello World!\")"
      ]
    },
    {
      "cell_type": "code",
      "source": [
        "help()"
      ],
      "metadata": {
        "colab": {
          "base_uri": "https://localhost:8080/"
        },
        "id": "PqCRzfEXnxie",
        "outputId": "a7c962d1-bd3e-4125-f7c3-ef79c45e6398"
      },
      "execution_count": null,
      "outputs": [
        {
          "output_type": "stream",
          "name": "stdout",
          "text": [
            "Welcome to Python 3.11's help utility! If this is your first time using\n",
            "Python, you should definitely check out the tutorial at\n",
            "https://docs.python.org/3.11/tutorial/.\n",
            "\n",
            "Enter the name of any module, keyword, or topic to get help on writing\n",
            "Python programs and using Python modules.  To get a list of available\n",
            "modules, keywords, symbols, or topics, enter \"modules\", \"keywords\",\n",
            "\"symbols\", or \"topics\".\n",
            "\n",
            "Each module also comes with a one-line summary of what it does; to list\n",
            "the modules whose name or summary contain a given string such as \"spam\",\n",
            "enter \"modules spam\".\n",
            "\n",
            "To quit this help utility and return to the interpreter,\n",
            "enter \"q\" or \"quit\".\n",
            "\n",
            "help> q\n",
            "\n",
            "You are now leaving help and returning to the Python interpreter.\n",
            "If you want to ask for help on a particular object directly from the\n",
            "interpreter, you can type \"help(object)\".  Executing \"help('string')\"\n",
            "has the same effect as typing a particular string at the help> prompt.\n"
          ]
        }
      ]
    },
    {
      "cell_type": "markdown",
      "source": [
        "Complex Number Data Type in Python"
      ],
      "metadata": {
        "id": "XWjgO2KroBYF"
      }
    },
    {
      "cell_type": "code",
      "source": [
        "x = -1 - 5j\n",
        "y = 5 + 4j\n",
        "print(x+y)\n",
        "print(x-y)\n",
        "print(x/y)\n",
        "print(x*y)"
      ],
      "metadata": {
        "colab": {
          "base_uri": "https://localhost:8080/"
        },
        "id": "L_NovtEA1BTp",
        "outputId": "95358a6f-1be1-4b51-d5cb-8eaf8ac8ccb4"
      },
      "execution_count": null,
      "outputs": [
        {
          "output_type": "stream",
          "name": "stdout",
          "text": [
            "(4-1j)\n",
            "(-6-9j)\n",
            "(-0.6097560975609757-0.5121951219512195j)\n",
            "(15-29j)\n"
          ]
        }
      ]
    },
    {
      "cell_type": "markdown",
      "source": [
        "Lists"
      ],
      "metadata": {
        "id": "RzQA6f-y1vvm"
      }
    },
    {
      "cell_type": "code",
      "source": [
        "x = list(range(1,10))\n",
        "x = list(range(1,10))\n",
        "x\n",
        "print(x[8:9])\n",
        "print(x[-2:]) # print last two elements"
      ],
      "metadata": {
        "colab": {
          "base_uri": "https://localhost:8080/"
        },
        "id": "Na1vD57A-KqP",
        "outputId": "5ded7067-47ae-4386-89df-789fd009c293"
      },
      "execution_count": null,
      "outputs": [
        {
          "output_type": "stream",
          "name": "stdout",
          "text": [
            "[9]\n",
            "[8, 9]\n"
          ]
        }
      ]
    },
    {
      "cell_type": "markdown",
      "source": [
        "Tuples"
      ],
      "metadata": {
        "id": "l5Emyvcc_jJE"
      }
    },
    {
      "cell_type": "code",
      "source": [
        "x = (1,2,3)\n",
        "a,b,c = x   # destructuring tuples into separate variables\n",
        "print(a)\n",
        "print(b)\n",
        "print(c)\n",
        "y = tuple(list(range(1,5))) # create tuple from a list\n",
        "print(y)\n",
        "print(1 in y) # membership test using 'in' operator"
      ],
      "metadata": {
        "colab": {
          "base_uri": "https://localhost:8080/"
        },
        "id": "ywqU1F-Z_llE",
        "outputId": "e5c6d9d6-2770-4f16-d33e-dc98bbfdab51"
      },
      "execution_count": null,
      "outputs": [
        {
          "output_type": "stream",
          "name": "stdout",
          "text": [
            "1\n",
            "2\n",
            "3\n",
            "(1, 2, 3, 4)\n",
            "True\n"
          ]
        }
      ]
    },
    {
      "cell_type": "markdown",
      "source": [
        "Maps"
      ],
      "metadata": {
        "id": "Vu1-U4OPoEdn"
      }
    },
    {
      "cell_type": "code",
      "source": [
        "map = {1: \"one\", 2: \"two\"}\n",
        "print(map)\n",
        "print(map[1])\n",
        "try:\n",
        "  print(map[3])\n",
        "except KeyError as e:\n",
        "  print(\"Key not present\")\n",
        "print(map.get(3,\"not_present\"))"
      ],
      "metadata": {
        "id": "oP2WX8rFk_dw",
        "colab": {
          "base_uri": "https://localhost:8080/"
        },
        "outputId": "d74adf73-a744-4c36-cbd6-2784be704768"
      },
      "execution_count": 4,
      "outputs": [
        {
          "output_type": "stream",
          "name": "stdout",
          "text": [
            "{1: 'one', 2: 'two'}\n",
            "one\n",
            "Key not present\n",
            "not_present\n"
          ]
        }
      ]
    },
    {
      "cell_type": "markdown",
      "source": [
        "Pattern Match"
      ],
      "metadata": {
        "id": "6H4JxkkjoGik"
      }
    },
    {
      "cell_type": "code",
      "source": [
        "point = (int(input(\"enter x\")),int(input(\"enter y\")))\n",
        "print(point)\n",
        "match point:\n",
        "  case (0,0):\n",
        "    print(\"Origin\")\n",
        "  case (0,y):\n",
        "    print(f\"On Y-axis Y={y}\")\n",
        "  case (x,0):\n",
        "    print(f\"On X-axis X={x}\")\n",
        "  case (x,y):\n",
        "    print(f\"X={x} Y={y}\")\n"
      ],
      "metadata": {
        "colab": {
          "base_uri": "https://localhost:8080/"
        },
        "id": "mlGf10RqoHwj",
        "outputId": "8c789fff-c645-4f53-ae1f-b427a25bccd0"
      },
      "execution_count": 9,
      "outputs": [
        {
          "output_type": "stream",
          "name": "stdout",
          "text": [
            "enter x3\n",
            "enter y4\n",
            "(3, 4)\n",
            "X=3 Y=4\n"
          ]
        }
      ]
    },
    {
      "cell_type": "markdown",
      "source": [
        "while loop"
      ],
      "metadata": {
        "id": "8EgkLYzfpfB2"
      }
    },
    {
      "cell_type": "code",
      "source": [
        "num = int(input(\"enter a number\"))\n",
        "while num > 0:\n",
        "  print(f\"Hello-{num}\")\n",
        "  num -= 1"
      ],
      "metadata": {
        "colab": {
          "base_uri": "https://localhost:8080/"
        },
        "id": "f5_6Jp9aphlu",
        "outputId": "3e09bc0a-1040-44cc-dae3-17fab0bf8b76"
      },
      "execution_count": 11,
      "outputs": [
        {
          "output_type": "stream",
          "name": "stdout",
          "text": [
            "enter a number10\n",
            "enter a number10\n",
            "Hello-10\n",
            "Hello-9\n",
            "Hello-8\n",
            "Hello-7\n",
            "Hello-6\n",
            "Hello-5\n",
            "Hello-4\n",
            "Hello-3\n",
            "Hello-2\n",
            "Hello-1\n"
          ]
        }
      ]
    }
  ]
}